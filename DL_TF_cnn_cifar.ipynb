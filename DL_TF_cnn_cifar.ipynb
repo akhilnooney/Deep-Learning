{
 "cells": [
  {
   "cell_type": "markdown",
   "metadata": {},
   "source": [
    "# ADTA 5900: CNN on CIFAR-10: Final Project"
   ]
  },
  {
   "cell_type": "markdown",
   "metadata": {},
   "source": [
    "## Set Path for Data Folder"
   ]
  },
  {
   "cell_type": "code",
   "execution_count": 388,
   "metadata": {},
   "outputs": [],
   "source": [
    " # Put file path as a string here\n",
    "\n",
    "CIFAR_DIR = '/home/akhilnooney/JP_NTBK/CIFAR_10_DATA/'"
   ]
  },
  {
   "cell_type": "markdown",
   "metadata": {},
   "source": [
    "## Load Data"
   ]
  },
  {
   "cell_type": "code",
   "execution_count": 389,
   "metadata": {},
   "outputs": [],
   "source": [
    "def unpickle(file):\n",
    "    import pickle\n",
    "    with open(file, 'rb') as fo:\n",
    "        cifar_dict = pickle.load(fo, encoding='bytes')\n",
    "    return cifar_dict"
   ]
  },
  {
   "cell_type": "code",
   "execution_count": 390,
   "metadata": {},
   "outputs": [],
   "source": [
    "dirs = ['batches.meta','data_batch_1','data_batch_2','data_batch_3','data_batch_4','data_batch_5','test_batch']\n",
    "\n",
    "all_data = [0,1,2,3,4,5,6]\n",
    "\n",
    "for i,direc in zip(all_data,dirs):\n",
    "    all_data[i] = unpickle(CIFAR_DIR+direc)"
   ]
  },
  {
   "cell_type": "code",
   "execution_count": 391,
   "metadata": {},
   "outputs": [],
   "source": [
    "batch_meta = all_data[0]\n",
    "data_batch1 = all_data[1]\n",
    "data_batch2 = all_data[2]\n",
    "data_batch3 = all_data[3]\n",
    "data_batch4 = all_data[4]\n",
    "data_batch5 = all_data[5]\n",
    "test_batch = all_data[6]"
   ]
  },
  {
   "cell_type": "code",
   "execution_count": 392,
   "metadata": {},
   "outputs": [
    {
     "data": {
      "text/plain": [
       "{b'num_cases_per_batch': 10000,\n",
       " b'label_names': [b'airplane',\n",
       "  b'automobile',\n",
       "  b'bird',\n",
       "  b'cat',\n",
       "  b'deer',\n",
       "  b'dog',\n",
       "  b'frog',\n",
       "  b'horse',\n",
       "  b'ship',\n",
       "  b'truck'],\n",
       " b'num_vis': 3072}"
      ]
     },
     "execution_count": 392,
     "metadata": {},
     "output_type": "execute_result"
    }
   ],
   "source": [
    "batch_meta"
   ]
  },
  {
   "cell_type": "code",
   "execution_count": 393,
   "metadata": {},
   "outputs": [
    {
     "data": {
      "text/plain": [
       "dict_keys([b'batch_label', b'labels', b'data', b'filenames'])"
      ]
     },
     "execution_count": 393,
     "metadata": {},
     "output_type": "execute_result"
    }
   ],
   "source": [
    "data_batch1.keys()"
   ]
  },
  {
   "cell_type": "markdown",
   "metadata": {},
   "source": [
    "## Display several examples of single images using matplotlib "
   ]
  },
  {
   "cell_type": "code",
   "execution_count": 394,
   "metadata": {},
   "outputs": [],
   "source": [
    "import matplotlib.pyplot as plt\n",
    "%matplotlib inline\n",
    "\n",
    "import numpy as np"
   ]
  },
  {
   "cell_type": "code",
   "execution_count": 395,
   "metadata": {},
   "outputs": [],
   "source": [
    "X = data_batch1[b\"data\"] "
   ]
  },
  {
   "cell_type": "code",
   "execution_count": 396,
   "metadata": {},
   "outputs": [],
   "source": [
    "X = X.reshape(10000, 3, 32, 32).transpose(0,2,3,1).astype(\"uint8\")"
   ]
  },
  {
   "cell_type": "code",
   "execution_count": 397,
   "metadata": {},
   "outputs": [
    {
     "data": {
      "text/plain": [
       "255"
      ]
     },
     "execution_count": 397,
     "metadata": {},
     "output_type": "execute_result"
    }
   ],
   "source": [
    "X[0].max()"
   ]
  },
  {
   "cell_type": "code",
   "execution_count": 398,
   "metadata": {},
   "outputs": [
    {
     "data": {
      "text/plain": [
       "1.0"
      ]
     },
     "execution_count": 398,
     "metadata": {},
     "output_type": "execute_result"
    }
   ],
   "source": [
    "(X[0]/255).max()"
   ]
  },
  {
   "cell_type": "code",
   "execution_count": 399,
   "metadata": {},
   "outputs": [
    {
     "data": {
      "text/plain": [
       "<matplotlib.image.AxesImage at 0x7f925407c350>"
      ]
     },
     "execution_count": 399,
     "metadata": {},
     "output_type": "execute_result"
    },
    {
     "data": {
      "image/png": "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\n",
      "text/plain": [
       "<Figure size 432x288 with 1 Axes>"
      ]
     },
     "metadata": {
      "needs_background": "light"
     },
     "output_type": "display_data"
    }
   ],
   "source": [
    "plt.imshow(X[0])"
   ]
  },
  {
   "cell_type": "code",
   "execution_count": 400,
   "metadata": {},
   "outputs": [
    {
     "data": {
      "text/plain": [
       "<matplotlib.image.AxesImage at 0x7f9254059c10>"
      ]
     },
     "execution_count": 400,
     "metadata": {},
     "output_type": "execute_result"
    },
    {
     "data": {
      "image/png": "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\n",
      "text/plain": [
       "<Figure size 432x288 with 1 Axes>"
      ]
     },
     "metadata": {
      "needs_background": "light"
     },
     "output_type": "display_data"
    }
   ],
   "source": [
    "plt.imshow(X[1])"
   ]
  },
  {
   "cell_type": "code",
   "execution_count": 401,
   "metadata": {},
   "outputs": [
    {
     "data": {
      "text/plain": [
       "<matplotlib.image.AxesImage at 0x7f9228790350>"
      ]
     },
     "execution_count": 401,
     "metadata": {},
     "output_type": "execute_result"
    },
    {
     "data": {
      "image/png": "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\n",
      "text/plain": [
       "<Figure size 432x288 with 1 Axes>"
      ]
     },
     "metadata": {
      "needs_background": "light"
     },
     "output_type": "display_data"
    }
   ],
   "source": [
    "plt.imshow(X[4])"
   ]
  },
  {
   "cell_type": "markdown",
   "metadata": {},
   "source": [
    "## Supporting Functions to Rearrange Data"
   ]
  },
  {
   "cell_type": "markdown",
   "metadata": {},
   "source": [
    "### Encode Labels into One-Hot Format"
   ]
  },
  {
   "cell_type": "code",
   "execution_count": 402,
   "metadata": {},
   "outputs": [],
   "source": [
    "def one_hot_encode(vec, vals=10):\n",
    "    '''\n",
    "    For use to one-hot encode the 10- possible labels\n",
    "    '''\n",
    "    n = len(vec)\n",
    "    out = np.zeros((n, vals))\n",
    "    out[range(n), vec] = 1\n",
    "    return out"
   ]
  },
  {
   "cell_type": "markdown",
   "metadata": {},
   "source": [
    "## Set Up Image Data: Make it Ready to be Fed into 1st Conv Layer"
   ]
  },
  {
   "cell_type": "code",
   "execution_count": 403,
   "metadata": {},
   "outputs": [],
   "source": [
    "class CifarHelper():\n",
    "    \n",
    "    def __init__(self):\n",
    "        self.i = 0\n",
    "        \n",
    "        self.all_train_batches = [data_batch1,data_batch2,data_batch3,data_batch4,data_batch5]\n",
    "        self.test_batch = [test_batch]\n",
    "        \n",
    "        self.training_images = None\n",
    "        self.training_labels = None\n",
    "        \n",
    "        self.test_images = None\n",
    "        self.test_labels = None\n",
    "    \n",
    "    def set_up_images(self):\n",
    "        \n",
    "        print(\"Setting Up Training Images and Labels\")\n",
    "        \n",
    "        self.training_images = np.vstack([d[b\"data\"] for d in self.all_train_batches])\n",
    "        train_len = len(self.training_images)\n",
    "        \n",
    "        self.training_images = self.training_images.reshape(train_len,3,32,32).transpose(0,2,3,1)/255\n",
    "        self.training_labels = one_hot_encode(np.hstack([d[b\"labels\"] for d in self.all_train_batches]), 10)\n",
    "        \n",
    "        print(\"Setting Up Test Images and Labels\")\n",
    "        \n",
    "        self.test_images = np.vstack([d[b\"data\"] for d in self.test_batch])\n",
    "        test_len = len(self.test_images)\n",
    "        \n",
    "        self.test_images = self.test_images.reshape(test_len,3,32,32).transpose(0,2,3,1)/255\n",
    "        self.test_labels = one_hot_encode(np.hstack([d[b\"labels\"] for d in self.test_batch]), 10)\n",
    "\n",
    "        \n",
    "    def next_batch(self, batch_size):\n",
    "        x = self.training_images[self.i:self.i+batch_size].reshape(100,32,32,3)\n",
    "        y = self.training_labels[self.i:self.i+batch_size]\n",
    "        self.i = (self.i + batch_size) % len(self.training_images)\n",
    "        return x, y"
   ]
  },
  {
   "cell_type": "markdown",
   "metadata": {},
   "source": [
    "## Set up image data: Calling CifarHelper.set_up_images()"
   ]
  },
  {
   "cell_type": "code",
   "execution_count": 404,
   "metadata": {},
   "outputs": [
    {
     "name": "stdout",
     "output_type": "stream",
     "text": [
      "Setting Up Training Images and Labels\n",
      "Setting Up Test Images and Labels\n"
     ]
    }
   ],
   "source": [
    "# Before Your tf.Session run these two lines\n",
    "ch = CifarHelper()\n",
    "ch.set_up_images()\n",
    "\n",
    "# During your session to grab the next batch use this line\n",
    "# (Just like we did for mnist.train.next_batch)\n",
    "# batch = ch.next_batch(100)"
   ]
  },
  {
   "cell_type": "code",
   "execution_count": 405,
   "metadata": {},
   "outputs": [
    {
     "data": {
      "text/plain": [
       "array([[0., 0., 0., ..., 0., 0., 0.],\n",
       "       [0., 0., 0., ..., 0., 0., 1.],\n",
       "       [0., 0., 0., ..., 0., 0., 1.],\n",
       "       ...,\n",
       "       [0., 0., 0., ..., 0., 0., 1.],\n",
       "       [0., 1., 0., ..., 0., 0., 0.],\n",
       "       [0., 1., 0., ..., 0., 0., 0.]])"
      ]
     },
     "execution_count": 405,
     "metadata": {},
     "output_type": "execute_result"
    }
   ],
   "source": [
    "ch.training_labels"
   ]
  },
  {
   "cell_type": "markdown",
   "metadata": {},
   "source": [
    "## Define Supporting Functions to Build, Train, and Test CNN Model"
   ]
  },
  {
   "cell_type": "code",
   "execution_count": 406,
   "metadata": {},
   "outputs": [],
   "source": [
    "def initialize_weights(filter_shape):\n",
    "    init_random_dist = tf.truncated_normal(filter_shape,stddev=0.1)\n",
    "    return (tf.Variable(init_random_dist))"
   ]
  },
  {
   "cell_type": "code",
   "execution_count": 407,
   "metadata": {},
   "outputs": [],
   "source": [
    "def initialize_bias(bias_shape):\n",
    "    initial_bias_vals = tf.constant(0.1,shape=bias_shape)\n",
    "    return (tf.Variable(initial_bias_vals))"
   ]
  },
  {
   "cell_type": "code",
   "execution_count": null,
   "metadata": {},
   "outputs": [],
   "source": []
  },
  {
   "cell_type": "markdown",
   "metadata": {},
   "source": [
    "# PHASE I: Build Convolutional Neural Network"
   ]
  },
  {
   "cell_type": "code",
   "execution_count": 408,
   "metadata": {},
   "outputs": [],
   "source": [
    "import tensorflow as tf"
   ]
  },
  {
   "cell_type": "code",
   "execution_count": 409,
   "metadata": {},
   "outputs": [],
   "source": [
    "def create_convolution_layer(inputs, filter_shape):\n",
    "    filter_initialized_with_weights = initialize_weights(filter_shape)\n",
    "    conv_layer_outputs = tf.nn.conv2d(inputs,filter_initialized_with_weights, strides=[1,1,1,1],padding ='SAME')\n",
    "    return (conv_layer_outputs)"
   ]
  },
  {
   "cell_type": "code",
   "execution_count": 410,
   "metadata": {},
   "outputs": [],
   "source": [
    "def create_relu_layer(inputs, filter_shape):\n",
    "    b = initialize_bias([filter_shape[3]])\n",
    "    relu_layer_outputs = tf.nn.relu(inputs+b)\n",
    "    return (relu_layer_outputs)"
   ]
  },
  {
   "cell_type": "code",
   "execution_count": 411,
   "metadata": {},
   "outputs": [],
   "source": [
    "def create_max_pool(inputs):\n",
    "    pooling_layer_outputs = tf.nn.max_pool(inputs, ksize=[1,2,2,1],strides = [1,2,2,1],padding='SAME')\n",
    "    return (pooling_layer_outputs)"
   ]
  },
  {
   "cell_type": "code",
   "execution_count": 412,
   "metadata": {},
   "outputs": [],
   "source": [
    "def create_fully_connected_layer(inputs, output_size):\n",
    "    input_size = int(inputs.get_shape()[1])\n",
    "    W = initialize_weights([input_size, output_size])\n",
    "    b = initialize_bias([output_size])\n",
    "    fcbias_outputs=tf.matmul(inputs,W)+b\n",
    "    return (fcbias_outputs)"
   ]
  },
  {
   "cell_type": "markdown",
   "metadata": {},
   "source": [
    "## Create Placeholders for Inputs and Labels: x and y_true"
   ]
  },
  {
   "cell_type": "code",
   "execution_count": 413,
   "metadata": {},
   "outputs": [],
   "source": [
    "# PLACEHOLDER\n",
    "\n",
    "# Create a placeholder for the inputs data: x\n",
    "# x: a 2D array\n",
    "# x: a placeholder that can hold any number of rows/record\n",
    "\n",
    "x = tf.placeholder(tf.float32, shape=[None, 32, 32, 3])"
   ]
  },
  {
   "cell_type": "code",
   "execution_count": 414,
   "metadata": {},
   "outputs": [],
   "source": [
    "# PLACEHOLDER\n",
    "\n",
    "# Create a placeholder for the labels of the inputs data: y_true\n",
    "# y_true: a 2D array\n",
    "# y_true: Can hold any number of rows/records\n",
    "\n",
    "y_true = tf.placeholder(tf.float32, [None, 10])"
   ]
  },
  {
   "cell_type": "markdown",
   "metadata": {},
   "source": [
    "## Reshape the Input Placeholder x: NOT NEED TO RESHAPE DATA HERE"
   ]
  },
  {
   "cell_type": "code",
   "execution_count": 415,
   "metadata": {},
   "outputs": [],
   "source": [
    "# DO NOTHING -- DON'T NEED TO RESHAPE - DATA IS ALREADY IN GOOD SHAPE TO BE FED INTO 1ST CONVOLUTION LAYER"
   ]
  },
  {
   "cell_type": "markdown",
   "metadata": {},
   "source": [
    "## Create 1st Convolution Layer and so on ............."
   ]
  },
  {
   "cell_type": "code",
   "execution_count": 416,
   "metadata": {},
   "outputs": [],
   "source": [
    "conv_layer1=create_convolution_layer(x,filter_shape=[3,3,3,32])"
   ]
  },
  {
   "cell_type": "code",
   "execution_count": 417,
   "metadata": {},
   "outputs": [],
   "source": [
    "conv_relu_layer1=create_relu_layer(conv_layer1,filter_shape=[3,3,3,32])"
   ]
  },
  {
   "cell_type": "code",
   "execution_count": 418,
   "metadata": {},
   "outputs": [],
   "source": [
    "pooling_layer1 = create_max_pool(conv_relu_layer1)"
   ]
  },
  {
   "cell_type": "code",
   "execution_count": 419,
   "metadata": {},
   "outputs": [],
   "source": [
    "#Layer 2\n",
    "conv_layer2=create_convolution_layer(pooling_layer1,filter_shape=[3,3,32,64])"
   ]
  },
  {
   "cell_type": "code",
   "execution_count": 420,
   "metadata": {},
   "outputs": [],
   "source": [
    "conv_relu_layer2=create_relu_layer(conv_layer2,filter_shape=[3,3,32,64])"
   ]
  },
  {
   "cell_type": "code",
   "execution_count": 421,
   "metadata": {},
   "outputs": [],
   "source": [
    "pooling_layer2 = create_max_pool(conv_relu_layer2)"
   ]
  },
  {
   "cell_type": "code",
   "execution_count": 422,
   "metadata": {},
   "outputs": [],
   "source": [
    "#Layer 3\n",
    "conv_layer3=create_convolution_layer(pooling_layer2,filter_shape=[3,3,64,128])"
   ]
  },
  {
   "cell_type": "code",
   "execution_count": 423,
   "metadata": {},
   "outputs": [],
   "source": [
    "conv_relu_layer3=create_relu_layer(conv_layer3,filter_shape=[3,3,64,128])"
   ]
  },
  {
   "cell_type": "code",
   "execution_count": 276,
   "metadata": {},
   "outputs": [
    {
     "data": {
      "text/plain": [
       "<tf.Tensor 'MaxPool_8:0' shape=(?, 8, 8, 64) dtype=float32>"
      ]
     },
     "execution_count": 276,
     "metadata": {},
     "output_type": "execute_result"
    }
   ],
   "source": [
    "pooling_layer2"
   ]
  },
  {
   "cell_type": "code",
   "execution_count": 424,
   "metadata": {},
   "outputs": [],
   "source": [
    "pooling_layer3 = create_max_pool(conv_relu_layer3)"
   ]
  },
  {
   "cell_type": "code",
   "execution_count": 435,
   "metadata": {},
   "outputs": [
    {
     "data": {
      "text/plain": [
       "<tf.Tensor 'MaxPool_21:0' shape=(?, 4, 4, 128) dtype=float32>"
      ]
     },
     "execution_count": 435,
     "metadata": {},
     "output_type": "execute_result"
    }
   ],
   "source": [
    "pooling_layer3"
   ]
  },
  {
   "cell_type": "code",
   "execution_count": 436,
   "metadata": {},
   "outputs": [],
   "source": [
    "#Flattening Layer\n",
    "poolig_layer2_flatten = tf.reshape(pooling_layer3, [-1,4*4*128])"
   ]
  },
  {
   "cell_type": "code",
   "execution_count": 437,
   "metadata": {},
   "outputs": [],
   "source": [
    "#Fully Connected Layer\n",
    "fc_layer_1_outputs = create_fully_connected_layer(poolig_layer2_flatten, output_size=1024)"
   ]
  },
  {
   "cell_type": "code",
   "execution_count": 438,
   "metadata": {},
   "outputs": [],
   "source": [
    "fc_relu_layer_1_outputs = tf.nn.relu(fc_layer_1_outputs)"
   ]
  },
  {
   "cell_type": "code",
   "execution_count": 439,
   "metadata": {},
   "outputs": [],
   "source": [
    "#Dropout Layer\n",
    "dropout_hold_prob = tf.placeholder(tf.float32)\n",
    "dropout_outputs = tf.nn.dropout(fc_relu_layer_1_outputs, keep_prob=dropout_hold_prob)"
   ]
  },
  {
   "cell_type": "code",
   "execution_count": 440,
   "metadata": {},
   "outputs": [],
   "source": [
    "y_pred = create_fully_connected_layer(dropout_outputs,output_size=10)"
   ]
  },
  {
   "cell_type": "code",
   "execution_count": 441,
   "metadata": {},
   "outputs": [],
   "source": [
    "#Loss Function\n",
    "softmax_cross_entropy_loss = tf.nn.softmax_cross_entropy_with_logits_v2(labels=y_true,logits=y_pred)\n",
    "cross_entropy_mean = tf.reduce_mean(softmax_cross_entropy_loss)"
   ]
  },
  {
   "cell_type": "code",
   "execution_count": 442,
   "metadata": {},
   "outputs": [],
   "source": [
    "#Updating Bias and Weights\n",
    "optimizer = tf.train.AdamOptimizer(learning_rate=0.001)"
   ]
  },
  {
   "cell_type": "code",
   "execution_count": 443,
   "metadata": {},
   "outputs": [],
   "source": [
    "cnn_trainer=optimizer.minimize(cross_entropy_mean)"
   ]
  },
  {
   "cell_type": "code",
   "execution_count": 444,
   "metadata": {},
   "outputs": [],
   "source": [
    "vars_initializer = tf.global_variables_initializer()\n",
    "steps=5000"
   ]
  },
  {
   "cell_type": "markdown",
   "metadata": {},
   "source": [
    "# PHASE II: Train and Test CNN Model on CIFAR-10 Dataset"
   ]
  },
  {
   "cell_type": "markdown",
   "metadata": {},
   "source": [
    "## ..."
   ]
  },
  {
   "cell_type": "code",
   "execution_count": 445,
   "metadata": {},
   "outputs": [
    {
     "name": "stdout",
     "output_type": "stream",
     "text": [
      "ON STEP:0 Accuracy:11.2\n",
      "\n",
      "\n",
      "ON STEP:100 Accuracy:38.74\n",
      "\n",
      "\n",
      "ON STEP:200 Accuracy:47.09\n",
      "\n",
      "\n",
      "ON STEP:300 Accuracy:49.79\n",
      "\n",
      "\n",
      "ON STEP:400 Accuracy:52.32\n",
      "\n",
      "\n",
      "ON STEP:500 Accuracy:57.46\n",
      "\n",
      "\n",
      "ON STEP:600 Accuracy:55.82\n",
      "\n",
      "\n",
      "ON STEP:700 Accuracy:59.92\n",
      "\n",
      "\n",
      "ON STEP:800 Accuracy:59.63\n",
      "\n",
      "\n",
      "ON STEP:900 Accuracy:59.27\n",
      "\n",
      "\n",
      "ON STEP:1000 Accuracy:64.04\n",
      "\n",
      "\n",
      "ON STEP:1100 Accuracy:61.44\n",
      "\n",
      "\n",
      "ON STEP:1200 Accuracy:63.41\n",
      "\n",
      "\n",
      "ON STEP:1300 Accuracy:63.29\n",
      "\n",
      "\n",
      "ON STEP:1400 Accuracy:66.16\n",
      "\n",
      "\n",
      "ON STEP:1500 Accuracy:67.65\n",
      "\n",
      "\n",
      "ON STEP:1600 Accuracy:66.37\n",
      "\n",
      "\n",
      "ON STEP:1700 Accuracy:68.58\n",
      "\n",
      "\n",
      "ON STEP:1800 Accuracy:67.44\n",
      "\n",
      "\n",
      "ON STEP:1900 Accuracy:68.46\n",
      "\n",
      "\n",
      "ON STEP:2000 Accuracy:69.79\n",
      "\n",
      "\n",
      "ON STEP:2100 Accuracy:68.14\n",
      "\n",
      "\n",
      "ON STEP:2200 Accuracy:70.77\n",
      "\n",
      "\n",
      "ON STEP:2300 Accuracy:70.02\n",
      "\n",
      "\n",
      "ON STEP:2400 Accuracy:70.2\n",
      "\n",
      "\n",
      "ON STEP:2500 Accuracy:69.82\n",
      "\n",
      "\n",
      "ON STEP:2600 Accuracy:71.62\n",
      "\n",
      "\n",
      "ON STEP:2700 Accuracy:72.4\n",
      "\n",
      "\n",
      "ON STEP:2800 Accuracy:71.71\n",
      "\n",
      "\n",
      "ON STEP:2900 Accuracy:72.24\n",
      "\n",
      "\n",
      "ON STEP:3000 Accuracy:69.71\n",
      "\n",
      "\n",
      "ON STEP:3100 Accuracy:72.29\n",
      "\n",
      "\n",
      "ON STEP:3200 Accuracy:72.35\n",
      "\n",
      "\n",
      "ON STEP:3300 Accuracy:72.47\n",
      "\n",
      "\n",
      "ON STEP:3400 Accuracy:71.78\n",
      "\n",
      "\n",
      "ON STEP:3500 Accuracy:72.49\n",
      "\n",
      "\n",
      "ON STEP:3600 Accuracy:73.43\n",
      "\n",
      "\n",
      "ON STEP:3700 Accuracy:72.97\n",
      "\n",
      "\n",
      "ON STEP:3800 Accuracy:72.98\n",
      "\n",
      "\n",
      "ON STEP:3900 Accuracy:73.77\n",
      "\n",
      "\n",
      "ON STEP:4000 Accuracy:72.11\n",
      "\n",
      "\n",
      "ON STEP:4100 Accuracy:72.14\n",
      "\n",
      "\n",
      "ON STEP:4200 Accuracy:72.8\n",
      "\n",
      "\n",
      "ON STEP:4300 Accuracy:73.44\n",
      "\n",
      "\n",
      "ON STEP:4400 Accuracy:73.66\n",
      "\n",
      "\n",
      "ON STEP:4500 Accuracy:71.98\n",
      "\n",
      "\n",
      "ON STEP:4600 Accuracy:72.7\n",
      "\n",
      "\n",
      "ON STEP:4700 Accuracy:73.51\n",
      "\n",
      "\n",
      "ON STEP:4800 Accuracy:73.63\n",
      "\n",
      "\n",
      "ON STEP:4900 Accuracy:74.31\n",
      "\n",
      "\n"
     ]
    }
   ],
   "source": [
    "with tf.Session() as sess:\n",
    "    sess.run(vars_initializer)\n",
    "    results=[]\n",
    "    \n",
    "    for i in range(steps):\n",
    "        batch_x,batch_y = ch.next_batch(100)\n",
    "        sess.run(cnn_trainer,feed_dict = {x:batch_x, y_true:batch_y,dropout_hold_prob:0.5})\n",
    "        if i%100==0:\n",
    "            matches = tf.equal(tf.argmax(y_pred,1),tf.argmax(y_true,1))\n",
    "            acc = tf.reduce_mean(tf.cast(matches,tf.float32))\n",
    "            test_accuracy = sess.run(acc, feed_dict = {x:ch.test_images,y_true:ch.test_labels,dropout_hold_prob:1.0})\n",
    "            results.append(test_accuracy)\n",
    "            print(f\"ON STEP:{i} Accuracy:{round((test_accuracy*100),2)}\")\n",
    "            print(\"\\n\")"
   ]
  },
  {
   "cell_type": "code",
   "execution_count": 446,
   "metadata": {},
   "outputs": [],
   "source": [
    "multiplied_list = [round((element * 100),2) for element in results]"
   ]
  },
  {
   "cell_type": "code",
   "execution_count": 447,
   "metadata": {},
   "outputs": [],
   "source": [
    "steps=[]\n",
    "for a in range(0,5000,100):\n",
    "    steps.append(a)\n",
    "    "
   ]
  },,
  {
   "cell_type": "markdown",
   "metadata": {},
   "source": [
    "## Results Visualization"
   ]
  },
  {
   "cell_type": "code",
   "execution_count": 448,
   "metadata": {},
   "outputs": [
    {
     "data": {
      "text/plain": [
       "Text(0, 0.5, 'Test_Accuracy')"
      ]
     },
     "execution_count": 448,
     "metadata": {},
     "output_type": "execute_result"
    },
    {
     "data": {
      "image/png": "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\n",
      "text/plain": [
       "<Figure size 432x288 with 1 Axes>"
      ]
     },
     "metadata": {
      "needs_background": "light"
     },
     "output_type": "display_data"
    }
   ],
   "source": [
    "from matplotlib import pyplot as plt\n",
    "plt.plot(steps,results, label='train acc')\n",
    "plt.xlabel(\"Steps\")\n",
    "plt.ylabel(\"Test_Accuracy\")"
   ]
  },
  {
   "cell_type": "code",
   "execution_count": null,
   "metadata": {},
   "outputs": [],
   "source": []
  }
 ],
 "metadata": {
  "kernelspec": {
   "display_name": "Python 3",
   "language": "python",
   "name": "python3"
  },
  "language_info": {
   "codemirror_mode": {
    "name": "ipython",
    "version": 3
   },
   "file_extension": ".py",
   "mimetype": "text/x-python",
   "name": "python",
   "nbconvert_exporter": "python",
   "pygments_lexer": "ipython3",
   "version": "3.7.6"
  }
 },
 "nbformat": 4,
 "nbformat_minor": 2
}
